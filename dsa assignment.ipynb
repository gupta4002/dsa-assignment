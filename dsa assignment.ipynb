{
 "cells": [
  {
   "cell_type": "markdown",
   "id": "cc394984",
   "metadata": {},
   "source": [
    "# Garvit Gupta(21104093)"
   ]
  },
  {
   "cell_type": "markdown",
   "id": "5198cc95",
   "metadata": {},
   "source": [
    "Ques 1:"
   ]
  },
  {
   "cell_type": "code",
   "execution_count": 1,
   "id": "f3e38b28",
   "metadata": {},
   "outputs": [],
   "source": [
    "# //  Traversing in circular singly linked list can be done through a loop.Initialize the temporary pointer variable temp to head pointer\n",
    "# //  and run the while loop until the next pointer of temp becomes head. The algorithm implementing the algorithm is described as follows.\n",
    "\n",
    "# //  Algorithm\n",
    "# //  STEP 1: SET PTR = HEAD\n",
    "# //  STEP 2: IF PTR = NULL\n",
    "# //            WRITE \"EMPTY LIST\"\n",
    "# //            GOTO STEP 8\n",
    "# //            END OF IF\n",
    "# //  STEP 3: REPEAT STEP 4 AND 5 UNTIL PTR → NEXT != HEAD      ---------------->>>>>>>>>>>>This condition establishes that traversing\n",
    "# //                                                                                        element has reached first element.\n",
    "# //  STEP 4: PRINT PTR → DATA\n",
    "# //  STEP 5: PTR = PTR → NEXT\n",
    "# //          [END OF LOOP]\n",
    "# //  STEP 7: PRINT PTR→ DATA\n",
    "# //  STEP 8: EXIT"
   ]
  },
  {
   "cell_type": "markdown",
   "id": "f7386ebc",
   "metadata": {},
   "source": [
    "Ques 2:"
   ]
  },
  {
   "cell_type": "code",
   "execution_count": 2,
   "id": "99f2365d",
   "metadata": {},
   "outputs": [],
   "source": [
    "# Application of Circular Linked Lists:\n",
    "#\n",
    "#   1.Round Robin scheduling technique in games.\n",
    "#   2.Audio/Video Streaming\n",
    "#   3.Circular Escalators in malls etc.\n",
    "#   4.Fibonacci heap\n",
    "#   5.Music Playlist:  A media playlist that repeats endlessly where the “tail” song node would point to the first song in the\n",
    "#                      playlist\n",
    "#   6.Snake game in phones: The circular linked list stores the x,y position of each point in the snake's body.The head of the\n",
    "#                           list is the snake's head.The tail is its tail.And the really nice property is that as you advance \n",
    "#                           the head to a new position, the list wraps around because it is circular. This erases the tail, and \n",
    "#                           leaves all other body parts as they are.So you get the movement of the whole snake simply by adding\n",
    "#                           a new head position\n",
    "#   7.Train:  Each compartment we can relate as a node in the Linked List and the engine compartment as the head. Attaching and\n",
    "#             detaching compartments can be related to inserting and deleting nodes in the List. Rotating the list can be viewed\n",
    "#             as rearranging the train compartments, similarly, reversing the list, etc.\n"
   ]
  }
 ],
 "metadata": {
  "kernelspec": {
   "display_name": "Python 3 (ipykernel)",
   "language": "python",
   "name": "python3"
  },
  "language_info": {
   "codemirror_mode": {
    "name": "ipython",
    "version": 3
   },
   "file_extension": ".py",
   "mimetype": "text/x-python",
   "name": "python",
   "nbconvert_exporter": "python",
   "pygments_lexer": "ipython3",
   "version": "3.10.5"
  }
 },
 "nbformat": 4,
 "nbformat_minor": 5
}
